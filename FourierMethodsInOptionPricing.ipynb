{
  "nbformat": 4,
  "nbformat_minor": 0,
  "metadata": {
    "colab": {
      "provenance": [],
      "authorship_tag": "ABX9TyNjUdiHMGTNEJ1g4cF94B3J",
      "include_colab_link": true
    },
    "kernelspec": {
      "name": "python3",
      "display_name": "Python 3"
    },
    "language_info": {
      "name": "python"
    }
  },
  "cells": [
    {
      "cell_type": "markdown",
      "metadata": {
        "id": "view-in-github",
        "colab_type": "text"
      },
      "source": [
        "<a href=\"https://colab.research.google.com/github/jjasira/Derivative-pricing/blob/main/FourierMethodsInOptionPricing.ipynb\" target=\"_parent\"><img src=\"https://colab.research.google.com/assets/colab-badge.svg\" alt=\"Open In Colab\"/></a>"
      ]
    },
    {
      "cell_type": "code",
      "source": [
        "import numpy as np\n",
        "from scipy import stats\n",
        "from numpy.fft import fft   # This is, conveniently, a library that already computes de FFT for us!"
      ],
      "metadata": {
        "id": "7en3z3HSje1Z"
      },
      "execution_count": 2,
      "outputs": []
    },
    {
      "cell_type": "code",
      "source": [
        "S0 = 100\n",
        "K = 100\n",
        "T = 1\n",
        "r = 0.05\n",
        "sigma = 0.2"
      ],
      "metadata": {
        "id": "agwniIYfjwZC"
      },
      "execution_count": 5,
      "outputs": []
    },
    {
      "cell_type": "code",
      "execution_count": 1,
      "metadata": {
        "id": "5wS-dxq4jKKY"
      },
      "outputs": [],
      "source": [
        "def BS_characteristic_func(v, x0, T, r, sigma):\n",
        "    \"\"\"Computes general Black-Scholes model characteristic function\n",
        "    to be used in Fourier pricing methods like Lewis (2001) and Carr-Madan (1999)\n",
        "    \"\"\"\n",
        "\n",
        "    cf_value = np.exp(\n",
        "        ((x0 / T + r - 0.5 * sigma**2) * 1j * v - 0.5 * sigma**2 * v**2) * T\n",
        "    )\n",
        "\n",
        "    return cf_value"
      ]
    },
    {
      "cell_type": "code",
      "source": [
        "def BS_call_FFT(S0, K, T, r, sigma):\n",
        "    \"\"\"European Call option price in BS under FFT\"\"\"\n",
        "\n",
        "    k = np.log(K / S0)\n",
        "    x0 = np.log(S0 / S0)\n",
        "    g = 1  # Factor to increase accuracy\n",
        "    N = g * 4096\n",
        "    eps = (g * 150) ** -1\n",
        "    eta = 2 * np.pi / (N * eps)\n",
        "    b = 0.5 * N * eps - k\n",
        "    u = np.arange(1, N + 1, 1)\n",
        "    vo = eta * (u - 1)\n",
        "\n",
        "    # Modifications to ensure integrability\n",
        "    if S0 >= 0.95 * K:  # ITM Case\n",
        "        alpha = 1.5\n",
        "        v = vo - (alpha + 1) * 1j\n",
        "        modcharFunc = np.exp(-r * T) * (\n",
        "            BS_characteristic_func(v, x0, T, r, sigma)\n",
        "            / (alpha**2 + alpha - vo**2 + 1j * (2 * alpha + 1) * vo)\n",
        "        )\n",
        "\n",
        "    else:\n",
        "        alpha = 1.1\n",
        "        v = (vo - 1j * alpha) - 1j\n",
        "        modcharFunc1 = np.exp(-r * T) * (\n",
        "            1 / (1 + 1j * (vo - 1j * alpha))\n",
        "            - np.exp(r * T) / (1j * (vo - 1j * alpha))\n",
        "            - BS_characteristic_func(v, x0, T, r, sigma)\n",
        "            / ((vo - 1j * alpha) ** 2 - 1j * (vo - 1j * alpha))\n",
        "        )\n",
        "\n",
        "        v = (vo + 1j * alpha) - 1j\n",
        "\n",
        "        modcharFunc2 = np.exp(-r * T) * (\n",
        "            1 / (1 + 1j * (vo + 1j * alpha))\n",
        "            - np.exp(r * T) / (1j * (vo + 1j * alpha))\n",
        "            - BS_characteristic_func(v, x0, T, r, sigma)\n",
        "            / ((vo + 1j * alpha) ** 2 - 1j * (vo + 1j * alpha))\n",
        "        )\n",
        "\n",
        "    # Numerical FFT Routine\n",
        "    delt = np.zeros(N)\n",
        "    delt[0] = 1\n",
        "    j = np.arange(1, N + 1, 1)\n",
        "    SimpsonW = (3 + (-1) ** j - delt) / 3\n",
        "    if S0 >= 0.95 * K:\n",
        "        FFTFunc = np.exp(1j * b * vo) * modcharFunc * eta * SimpsonW\n",
        "        payoff = (fft(FFTFunc)).real\n",
        "        CallValueM = np.exp(-alpha * k) / np.pi * payoff\n",
        "    else:\n",
        "        FFTFunc = (\n",
        "            np.exp(1j * b * vo) * (modcharFunc1 - modcharFunc2) * 0.5 * eta * SimpsonW\n",
        "        )\n",
        "        payoff = (fft(FFTFunc)).real\n",
        "        CallValueM = payoff / (np.sinh(alpha * k) * np.pi)\n",
        "\n",
        "    pos = int((k + b) / eps)\n",
        "    CallValue = CallValueM[pos] * S0\n",
        "\n",
        "    return CallValue"
      ],
      "metadata": {
        "id": "rT1jc-_djajs"
      },
      "execution_count": 3,
      "outputs": []
    },
    {
      "cell_type": "code",
      "source": [
        "print(\n",
        "    \" Fourier Call Option price via FFT is $\", BS_call_FFT(S0, K, T, r, sigma).round(4)\n",
        ")"
      ],
      "metadata": {
        "colab": {
          "base_uri": "https://localhost:8080/"
        },
        "id": "8rIqMAeljc-q",
        "outputId": "0b10ce2d-923a-4a9b-9341-ed1c8f9e19be"
      },
      "execution_count": 6,
      "outputs": [
        {
          "output_type": "stream",
          "name": "stdout",
          "text": [
            " Fourier Call Option price via FFT is $ 10.4506\n"
          ]
        }
      ]
    },
    {
      "cell_type": "code",
      "source": [],
      "metadata": {
        "id": "sV9aOJKrjqx0"
      },
      "execution_count": null,
      "outputs": []
    }
  ]
}